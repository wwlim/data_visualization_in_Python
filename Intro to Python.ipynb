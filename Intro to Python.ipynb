{
 "cells": [
  {
   "cell_type": "code",
   "execution_count": 1,
   "metadata": {},
   "outputs": [],
   "source": [
    "# General Assembly Introduction to Python\n",
    "# By Kasun Maldani (https://github.com/kasun-maldeni/intro-to-python)\n",
    "# A. Install programmes for Python\n",
    "## 1. Use Anaconda - installed\n",
    "\n",
    "# B. Intro to Python\n",
    "## 1. What is Python?\n",
    "### - Efficient, good for prototyping, code readability, high-level languages \n",
    "### - Interpreted language, line by line (interpreted)\n",
    "###   In contrast, Compiled language, translator, read everything beforehand \n",
    "###   (compiled) need to do more work\n",
    "### - Object oriented - code with objects (manipulate it with predefined ways)\n",
    "### - High-level programming (Python) vs low-level programming; Like an \"auto\" car\n",
    "\n",
    "## 2. Why Python?\n",
    "### - Open source, rapid prototyping\n",
    "### - Extensible and easy to install libraries\n",
    "### - Usage like AstroPy, Biopython, Pygame\n",
    "\n",
    "## 3. Exploring Python with Anaconda\n",
    "### - Launch Jupyter\n",
    "### - Type something in -> Error\n",
    "### - Hello <- will give you an error\n",
    "\"Hello\" # This is valid Python code - no error"
   ]
  },
  {
   "cell_type": "code",
   "execution_count": 30,
   "metadata": {},
   "outputs": [
    {
     "data": {
      "text/plain": [
       "float"
      ]
     },
     "execution_count": 30,
     "metadata": {},
     "output_type": "execute_result"
    }
   ],
   "source": [
    "## 4. Finding out the type of data\n",
    "type(\"Hello\") # str = string; \"string\"\n",
    "type(1) # int = integers\n",
    "type(1.2) # float = decimals\n"
   ]
  },
  {
   "cell_type": "code",
   "execution_count": 31,
   "metadata": {},
   "outputs": [
    {
     "name": "stdout",
     "output_type": "stream",
     "text": [
      "Hello\n"
     ]
    }
   ],
   "source": [
    "## 5. Print string without ''\n",
    "print(\"Hello\") # function = type() * action"
   ]
  },
  {
   "cell_type": "code",
   "execution_count": 32,
   "metadata": {},
   "outputs": [
    {
     "data": {
      "text/plain": [
       "1"
      ]
     },
     "execution_count": 32,
     "metadata": {},
     "output_type": "execute_result"
    }
   ],
   "source": [
    "## 6. Syntax - basic math\n",
    "10 - 2\n",
    "2 - 1\n",
    "2 * 5\n",
    "12 / 4\n",
    "type(12 / 4) # division always gives back a float\n",
    "13 / 5\n",
    "type(13 / 5)\n",
    "type(12 // 4) # If want to return integer type //\n",
    "type(13 // 5)\n",
    "13 // 5 # Truncating - cuts off decimal part\n",
    "2.9 / 1\n",
    "2.9 // 1 # Gives float but truncates .9\n",
    "10 % 1 # Modulus - number left over\n",
    "11 % 2\n",
    "13 % 3 # 13 - 12/3 = 1 (left over) "
   ]
  },
  {
   "cell_type": "code",
   "execution_count": 33,
   "metadata": {},
   "outputs": [
    {
     "data": {
      "text/plain": [
       "12"
      ]
     },
     "execution_count": 33,
     "metadata": {},
     "output_type": "execute_result"
    }
   ],
   "source": [
    "## 7. Variable - how computers store information\n",
    "### - E.g. 15 apples\n",
    "num_of_apples = 15 # To tell python that apples = 15\n",
    "num_of_apples\n",
    "num_of_apples-3"
   ]
  },
  {
   "cell_type": "code",
   "execution_count": 34,
   "metadata": {},
   "outputs": [
    {
     "data": {
      "text/plain": [
       "4"
      ]
     },
     "execution_count": 34,
     "metadata": {},
     "output_type": "execute_result"
    }
   ],
   "source": [
    "## 8. Control structures\n",
    "### - How we control the flow of logic and how we store information\n",
    "shopping_item1 = \"milk\"\n",
    "shopping_item2 = \"strawberries\"\n",
    "shopping_item3 = \"cookies\"\n",
    "shopping_item4 = \"bananas\" \n",
    "### - Problem with storing data with variables separately \n",
    "### - Need to remember which is which\n",
    "### - A better structure would be a shopping list \n",
    "shopping_list = [\"milk\", \"strawberries\", \"cookies\", \"bananas\"] # list\n",
    "shopping_list # type(shopping_list) = list\n",
    "### - Accessing elements in list\n",
    "shopping_list[0] # counting starts from 0 in Python\n",
    "shopping_list[1]\n",
    "### - Count number of elements - Google language and what you want to do\n",
    "len(shopping_list)"
   ]
  },
  {
   "cell_type": "code",
   "execution_count": 35,
   "metadata": {},
   "outputs": [
    {
     "data": {
      "text/plain": [
       "['milk', 'strawberries', 'cookies', 'bananas']"
      ]
     },
     "execution_count": 35,
     "metadata": {},
     "output_type": "execute_result"
    }
   ],
   "source": [
    "## 8. Control structures [... continued]\n",
    "### - Add elements to the list\n",
    "shopping_list\n",
    "shopping_list.append(\"eggs\")\n",
    "\n",
    "### - Remove elements from the list\n",
    "shopping_list.remove(\"eggs\")\n",
    "shopping_list"
   ]
  },
  {
   "cell_type": "code",
   "execution_count": 36,
   "metadata": {},
   "outputs": [
    {
     "data": {
      "text/plain": [
       "['milk', 'strawberries', 'cookies', 'bananas']"
      ]
     },
     "execution_count": 36,
     "metadata": {},
     "output_type": "execute_result"
    }
   ],
   "source": [
    "shopping_list"
   ]
  },
  {
   "cell_type": "code",
   "execution_count": 37,
   "metadata": {},
   "outputs": [],
   "source": [
    "## 8. Control structures [... continued]\n",
    "### - IF ELSE\n",
    "user_age = 19"
   ]
  },
  {
   "cell_type": "code",
   "execution_count": 38,
   "metadata": {},
   "outputs": [
    {
     "data": {
      "text/plain": [
       "True"
      ]
     },
     "execution_count": 38,
     "metadata": {},
     "output_type": "execute_result"
    }
   ],
   "source": [
    "user_age > 21 # check if variable > 21\n",
    "user_age < 21\n",
    "# type(user_age < 21) # Boolean (True / False)"
   ]
  },
  {
   "cell_type": "code",
   "execution_count": 39,
   "metadata": {},
   "outputs": [
    {
     "data": {
      "text/plain": [
       "False"
      ]
     },
     "execution_count": 39,
     "metadata": {},
     "output_type": "execute_result"
    }
   ],
   "source": [
    "user_age >= 21 # Condition"
   ]
  },
  {
   "cell_type": "code",
   "execution_count": 40,
   "metadata": {},
   "outputs": [
    {
     "name": "stdout",
     "output_type": "stream",
     "text": [
      "Yes, you may proceed\n"
     ]
    }
   ],
   "source": [
    "user_age = 25\n",
    "if user_age >= 21 : # Colon indents the code\n",
    "    print(\"Yes, you may proceed\") # Indentation is important in Python\n",
    "else :\n",
    "    print(\"Sorry, you are not old enough\") # If else statement in Python"
   ]
  },
  {
   "cell_type": "code",
   "execution_count": 41,
   "metadata": {},
   "outputs": [
    {
     "name": "stdout",
     "output_type": "stream",
     "text": [
      "['milk', 'strawberries', 'cookies', 'bananas']\n",
      "milk\n",
      "strawberries\n",
      "cookies\n",
      "bananas\n"
     ]
    }
   ],
   "source": [
    "## 8. Control structures [... continued]\n",
    "### - LOOP \n",
    "shopping_list = [\"milk\", \"strawberries\", \"cookies\", \"bananas\"] # can also use ''\n",
    "print(shopping_list)\n",
    "for item in shopping_list : # item = name element in list\n",
    "    print(item)"
   ]
  },
  {
   "cell_type": "code",
   "execution_count": 42,
   "metadata": {},
   "outputs": [
    {
     "name": "stdout",
     "output_type": "stream",
     "text": [
      "59\n"
     ]
    }
   ],
   "source": [
    "test_scores = [18, 9, 13, 12, 7]\n",
    "total_score = 0\n",
    "for score in test_scores : # can use any name for iterations - score, item etc\n",
    "    total_score = total_score + score\n",
    "print(total_score)"
   ]
  },
  {
   "cell_type": "code",
   "execution_count": 43,
   "metadata": {},
   "outputs": [
    {
     "name": "stdout",
     "output_type": "stream",
     "text": [
      "18\n",
      "27\n",
      "40\n",
      "52\n",
      "59\n"
     ]
    }
   ],
   "source": [
    "# Contrast it with this\n",
    "test_scores = [18, 9, 13, 12, 7]\n",
    "total_score = 0\n",
    "for score in test_scores : # can use any name for iterations - score, item etc\n",
    "    total_score = total_score + score\n",
    "    print(total_score) # with indentation, the print is in each iteration"
   ]
  },
  {
   "cell_type": "code",
   "execution_count": 44,
   "metadata": {},
   "outputs": [
    {
     "data": {
      "text/plain": [
       "{'adam': 59, 'jessica': 69, 'tony': 70, 'scott': 7}"
      ]
     },
     "execution_count": 44,
     "metadata": {},
     "output_type": "execute_result"
    }
   ],
   "source": [
    "# 9. Data structure - dictionary - in curly brackets\n",
    "students = {\"adam\": 59,\n",
    "\"jessica\": 69,\n",
    "\"tony\": 70} # key = \"adam\", value = 59\n",
    "students[\"adam\"] # look up \"adam\"\n",
    "students[\"jessica\"]\n",
    "students[\"tony\"]\n",
    "# add to dictionary\n",
    "students[\"scott\"] = 7\n",
    "students"
   ]
  },
  {
   "cell_type": "code",
   "execution_count": 45,
   "metadata": {},
   "outputs": [
    {
     "data": {
      "text/plain": [
       "[69, 110]"
      ]
     },
     "execution_count": 45,
     "metadata": {},
     "output_type": "execute_result"
    }
   ],
   "source": [
    "students = {\"adam\": [59,100],\n",
    "\"jessica\": [69, 110],\n",
    "\"tony\": [70, 90]} # key = \"adam\", value = 59\n",
    "students[\"adam\"]\n",
    "students[\"jessica\"]"
   ]
  },
  {
   "cell_type": "code",
   "execution_count": 46,
   "metadata": {},
   "outputs": [],
   "source": [
    "# 10. Practise programming\n",
    "## - library (packages in R): data manipulation - pandas, Numpy, scipy\n",
    "import pandas as pd\n",
    "import numpy as np"
   ]
  },
  {
   "cell_type": "code",
   "execution_count": 47,
   "metadata": {},
   "outputs": [],
   "source": [
    "data = pd.read_csv(\"https://raw.githubusercontent.com/kasun-maldeni/intro-to-python/master/data.csv\")\n",
    "# https://github.com/kasun-maldeni/intro-to-python"
   ]
  },
  {
   "cell_type": "code",
   "execution_count": 48,
   "metadata": {},
   "outputs": [
    {
     "data": {
      "text/html": [
       "<div>\n",
       "<style scoped>\n",
       "    .dataframe tbody tr th:only-of-type {\n",
       "        vertical-align: middle;\n",
       "    }\n",
       "\n",
       "    .dataframe tbody tr th {\n",
       "        vertical-align: top;\n",
       "    }\n",
       "\n",
       "    .dataframe thead th {\n",
       "        text-align: right;\n",
       "    }\n",
       "</style>\n",
       "<table border=\"1\" class=\"dataframe\">\n",
       "  <thead>\n",
       "    <tr style=\"text-align: right;\">\n",
       "      <th></th>\n",
       "      <th>name</th>\n",
       "      <th>location</th>\n",
       "      <th>subjects</th>\n",
       "    </tr>\n",
       "  </thead>\n",
       "  <tbody>\n",
       "    <tr>\n",
       "      <th>0</th>\n",
       "      <td>todd</td>\n",
       "      <td>melbourne</td>\n",
       "      <td>physics</td>\n",
       "    </tr>\n",
       "    <tr>\n",
       "      <th>1</th>\n",
       "      <td>jamie</td>\n",
       "      <td>toronto</td>\n",
       "      <td>physics</td>\n",
       "    </tr>\n",
       "    <tr>\n",
       "      <th>2</th>\n",
       "      <td>rebecca</td>\n",
       "      <td>Los Angeles</td>\n",
       "      <td>maths</td>\n",
       "    </tr>\n",
       "    <tr>\n",
       "      <th>3</th>\n",
       "      <td>michael</td>\n",
       "      <td>Sydney</td>\n",
       "      <td>biology</td>\n",
       "    </tr>\n",
       "    <tr>\n",
       "      <th>4</th>\n",
       "      <td>vincent</td>\n",
       "      <td>toronto</td>\n",
       "      <td>chemistry</td>\n",
       "    </tr>\n",
       "    <tr>\n",
       "      <th>5</th>\n",
       "      <td>georgia</td>\n",
       "      <td>Melbourne</td>\n",
       "      <td>stats</td>\n",
       "    </tr>\n",
       "    <tr>\n",
       "      <th>6</th>\n",
       "      <td>allen</td>\n",
       "      <td>toronto</td>\n",
       "      <td>chemistry</td>\n",
       "    </tr>\n",
       "    <tr>\n",
       "      <th>7</th>\n",
       "      <td>sarah</td>\n",
       "      <td>auckland</td>\n",
       "      <td>chemistry</td>\n",
       "    </tr>\n",
       "  </tbody>\n",
       "</table>\n",
       "</div>"
      ],
      "text/plain": [
       "      name     location   subjects\n",
       "0     todd    melbourne    physics\n",
       "1    jamie      toronto    physics\n",
       "2  rebecca  Los Angeles      maths\n",
       "3  michael       Sydney    biology\n",
       "4  vincent      toronto  chemistry\n",
       "5  georgia    Melbourne      stats\n",
       "6    allen      toronto  chemistry\n",
       "7    sarah     auckland  chemistry"
      ]
     },
     "execution_count": 48,
     "metadata": {},
     "output_type": "execute_result"
    }
   ],
   "source": [
    "data"
   ]
  },
  {
   "cell_type": "code",
   "execution_count": 49,
   "metadata": {},
   "outputs": [
    {
     "data": {
      "text/plain": [
       "array([['todd', 'melbourne', 'physics'],\n",
       "       ['jamie', 'toronto', 'physics'],\n",
       "       ['rebecca', 'Los Angeles', 'maths'],\n",
       "       ['michael', 'Sydney', 'biology'],\n",
       "       ['vincent', 'toronto', 'chemistry'],\n",
       "       ['georgia', 'Melbourne', 'stats'],\n",
       "       ['allen', 'toronto', 'chemistry'],\n",
       "       ['sarah', 'auckland', 'chemistry']], dtype=object)"
      ]
     },
     "execution_count": 49,
     "metadata": {},
     "output_type": "execute_result"
    }
   ],
   "source": [
    "## - Read info into a list\n",
    "data.values # returns array - set of lists"
   ]
  },
  {
   "cell_type": "code",
   "execution_count": 50,
   "metadata": {},
   "outputs": [
    {
     "data": {
      "text/plain": [
       "array(['todd', 'melbourne', 'physics'], dtype=object)"
      ]
     },
     "execution_count": 50,
     "metadata": {},
     "output_type": "execute_result"
    }
   ],
   "source": [
    "data.values[0]"
   ]
  },
  {
   "cell_type": "code",
   "execution_count": 51,
   "metadata": {},
   "outputs": [
    {
     "name": "stdout",
     "output_type": "stream",
     "text": [
      "todd studies physics in melbourne\n"
     ]
    }
   ],
   "source": [
    "print(data.values[0,0], \"studies\", data.values[0,2], \"in\", data.values[0,1])"
   ]
  },
  {
   "cell_type": "code",
   "execution_count": 52,
   "metadata": {},
   "outputs": [
    {
     "data": {
      "text/plain": [
       "'Todd studies Physics in Melbourne'"
      ]
     },
     "execution_count": 52,
     "metadata": {},
     "output_type": "execute_result"
    }
   ],
   "source": [
    "todd = data.values[0]\n",
    "todd[0].capitalize() + \" studies \" + todd[2].capitalize() + \" in \" + todd[1].capitalize() #[1] = index\n",
    "# functions can be specified by function() or .function()"
   ]
  },
  {
   "cell_type": "code",
   "execution_count": 53,
   "metadata": {},
   "outputs": [
    {
     "name": "stdout",
     "output_type": "stream",
     "text": [
      "Todd studies Physics in Melbourne\n",
      "Jamie studies Physics in Toronto\n",
      "Rebecca studies Maths in Los angeles\n",
      "Michael studies Biology in Sydney\n",
      "Vincent studies Chemistry in Toronto\n",
      "Georgia studies Stats in Melbourne\n",
      "Allen studies Chemistry in Toronto\n",
      "Sarah studies Chemistry in Auckland\n"
     ]
    }
   ],
   "source": [
    "for student in data.values :\n",
    "    string = student[0].capitalize() + \" studies \" + student[2].capitalize() + \" in \" + student[1].capitalize() #[1] = index\n",
    "    print(string) # no need to specify 1:8 (number of students) - defined in loop"
   ]
  },
  {
   "cell_type": "code",
   "execution_count": 54,
   "metadata": {},
   "outputs": [
    {
     "name": "stdout",
     "output_type": "stream",
     "text": [
      "Jamie\n",
      "Vincent\n",
      "Allen\n"
     ]
    }
   ],
   "source": [
    "# https://github.com/kasun-maldeni/intro-to-python\n",
    "# Next few questions\n",
    "# Print out the names of all the students studying in toronto.\n",
    "for student in data.values :\n",
    "    city = student[1]\n",
    "    if city == \"toronto\" :\n",
    "        print(student[0].capitalize())"
   ]
  },
  {
   "cell_type": "code",
   "execution_count": 55,
   "metadata": {},
   "outputs": [
    {
     "name": "stdout",
     "output_type": "stream",
     "text": [
      "Todd\n",
      "Georgia\n"
     ]
    }
   ],
   "source": [
    "# Do question 3 for all the students in Melbourne.\n",
    "for student in data.values :\n",
    "    city = student[1]\n",
    "    if city == \"melbourne\" or city == \"Melbourne\":\n",
    "        print(student[0].capitalize())"
   ]
  },
  {
   "cell_type": "code",
   "execution_count": 201,
   "metadata": {},
   "outputs": [
    {
     "name": "stdout",
     "output_type": "stream",
     "text": [
      "Michael is taking Biology\n",
      "Vincent and Allen and Sarah are taking Chemistry\n",
      "Rebecca is taking Maths\n",
      "Todd and Jamie are taking Physics\n",
      "Georgia is taking Stats\n"
     ]
    }
   ],
   "source": [
    "# Print out all the students who are taking the same courses in the following format: \n",
    "# \"Todd and Jamie are taking Physics. Vincent and Allen and Sarah are taking Chemistry.\"\n",
    "import pandas as pd\n",
    "import numpy as np\n",
    "\n",
    "subjects = np.unique(data[\"subjects\"].tolist())\n",
    "subjects\n",
    "\n",
    "for sub in subjects :\n",
    "    cohort = []\n",
    "    for student in data.values :\n",
    "        subject = student[2]\n",
    "        if subject == sub :\n",
    "            isstudent = str(student[0])\n",
    "            cohort.append(isstudent)\n",
    "    if len(cohort) ==1 :\n",
    "        for ind in cohort :\n",
    "            string = str()\n",
    "            string = string + ind.capitalize() + \" is taking \" + sub.capitalize()\n",
    "            print(string)\n",
    "    else :\n",
    "        string = str()\n",
    "        for ind in cohort :\n",
    "            if ind != cohort[-1] :\n",
    "                string = string + ind.capitalize() + \" and \"\n",
    "            else :\n",
    "                string = string + cohort[-1].capitalize() + \" are taking \" + sub.capitalize()\n",
    "        print(string)"
   ]
  }
 ],
 "metadata": {
  "kernelspec": {
   "display_name": "Python 3",
   "language": "python",
   "name": "python3"
  },
  "language_info": {
   "codemirror_mode": {
    "name": "ipython",
    "version": 3
   },
   "file_extension": ".py",
   "mimetype": "text/x-python",
   "name": "python",
   "nbconvert_exporter": "python",
   "pygments_lexer": "ipython3",
   "version": "3.7.3"
  }
 },
 "nbformat": 4,
 "nbformat_minor": 2
}
